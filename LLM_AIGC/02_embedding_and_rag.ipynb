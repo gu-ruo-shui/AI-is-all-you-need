{
 "cells": [
  {
   "metadata": {},
   "cell_type": "markdown",
   "source": [
    "- embeddings\n",
    "    - 不同的向量模型, 会导致精确度吗\n",
    "        - prompt 和 vector database 的模型要保持一致\n",
    "    - 好处\n",
    "    - 不好的地方, 召回失败\n",
    "    - https://www.bilibili.com/video/BV1Q3NUetEzV\n",
    "    - https://www.bilibili.com/video/BV1NANLeREUe"
   ],
   "id": "b8516278bbc859fa"
  },
  {
   "cell_type": "code",
   "id": "initial_id",
   "metadata": {
    "collapsed": true,
    "ExecuteTime": {
     "end_time": "2025-04-08T14:34:40.832229Z",
     "start_time": "2025-04-08T14:34:40.773189Z"
    }
   },
   "source": [
    "import openai\n",
    "import os\n",
    "from dotenv import load_dotenv\n",
    "\n",
    "load_dotenv(override=True)\n",
    "client = openai.OpenAI(api_key=os.getenv(\"OPENAI_API_KEY\"), base_url=os.getenv(\"OPENAI_BASE_URL\"))\n",
    "model = os.getenv(\"OPENAI_MODEL\")\n",
    "# print(client.base_url)"
   ],
   "outputs": [],
   "execution_count": 9
  },
  {
   "metadata": {
    "ExecuteTime": {
     "end_time": "2025-04-08T14:34:39.000704Z",
     "start_time": "2025-04-08T14:34:34.869730Z"
    }
   },
   "cell_type": "code",
   "source": [
    "import pandas as pd\n",
    "import numpy as np\n",
    "from ast import literal_eval\n",
    "\n",
    "datafile_path = \"data/fine_food_reviews_with_embeddings_1k.csv\"\n",
    "\n",
    "df = pd.read_csv(datafile_path)\n",
    "df[\"embedding\"] = df.embedding.apply(literal_eval).apply(np.array)"
   ],
   "id": "dade9957ca01cb2a",
   "outputs": [],
   "execution_count": 8
  },
  {
   "metadata": {
    "ExecuteTime": {
     "end_time": "2025-04-08T14:43:12.373066Z",
     "start_time": "2025-04-08T14:43:10.671895Z"
    }
   },
   "cell_type": "code",
   "source": [
    "from utils.embeddings_utils import get_embedding, cosine_similarity\n",
    "\n",
    "# search through the reviews for a specific product\n",
    "def search_reviews(df, product_description, n=3, pprint=True):\n",
    "    product_embedding = get_embedding(\n",
    "        product_description,\n",
    "        model=\"text-embedding-3-small\"\n",
    "    )\n",
    "    df[\"similarity\"] = df.embedding.apply(lambda x: cosine_similarity(x, product_embedding))\n",
    "    \n",
    "    top_n = df.sort_values(\"similarity\", ascending=False).head(n)\n",
    "    top_n[\"combined\"] = (\n",
    "        top_n.combined\n",
    "        .str.replace(\"Title: \", \"\")\n",
    "        .str.replace(\"; Content:\", \": \")\n",
    "    )\n",
    "\n",
    "    if pprint:\n",
    "        for _, row in top_n.iterrows():\n",
    "            print(f\"Similarity: {row['similarity']:.4f}\")\n",
    "            print(row[\"combined\"][:200])\n",
    "            print()\n",
    "\n",
    "    return top_n[[\"combined\", \"similarity\"]]\n",
    "\n",
    "results = search_reviews(df, \"delicious beans\", n=3, pprint=False)\n",
    "print(results)"
   ],
   "id": "50aa505951b2e35c",
   "outputs": [
    {
     "name": "stdout",
     "output_type": "stream",
     "text": [
      "                                              combined  similarity\n",
      "264  Delicious!:  I enjoy this white beans seasonin...    0.573562\n",
      "647  Fantastic Instant Refried beans:  Fantastic In...    0.558107\n",
      "296  Delicious:  While there may be better coffee b...    0.509843\n"
     ]
    }
   ],
   "execution_count": 16
  },
  {
   "metadata": {
    "ExecuteTime": {
     "end_time": "2025-04-08T14:43:58.079097Z",
     "start_time": "2025-04-08T14:43:54.429355Z"
    }
   },
   "cell_type": "code",
   "source": [
    "results = search_reviews(df, \"whole wheat pasta\", n=3, pprint=False)\n",
    "print(results)"
   ],
   "id": "ac312cca7978a6fc",
   "outputs": [
    {
     "name": "stdout",
     "output_type": "stream",
     "text": [
      "                                              combined  similarity\n",
      "325  Tasty and Quick Pasta:  Barilla Whole Grain Fu...    0.491543\n",
      "474  sooo good:  tastes so good. Worth the money. M...    0.489431\n",
      "29   Bland and vaguely gamy tasting, skip this one:...    0.444173\n"
     ]
    }
   ],
   "execution_count": 18
  },
  {
   "metadata": {},
   "cell_type": "markdown",
   "source": "不同的单词, embedding 后, 最后求得相似度结果可能是一样",
   "id": "e1ed4dcb94b52a29"
  },
  {
   "metadata": {},
   "cell_type": "markdown",
   "source": "Different models utilize RAG: a good base model is important",
   "id": "3a5f70f6b1e0dea"
  },
  {
   "metadata": {},
   "cell_type": "markdown",
   "source": "ReRank",
   "id": "5c8b7fe6d23f38d8"
  }
 ],
 "metadata": {
  "kernelspec": {
   "display_name": "Python 3",
   "language": "python",
   "name": "python3"
  },
  "language_info": {
   "codemirror_mode": {
    "name": "ipython",
    "version": 2
   },
   "file_extension": ".py",
   "mimetype": "text/x-python",
   "name": "python",
   "nbconvert_exporter": "python",
   "pygments_lexer": "ipython2",
   "version": "2.7.6"
  }
 },
 "nbformat": 4,
 "nbformat_minor": 5
}
